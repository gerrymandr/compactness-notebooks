{
 "cells": [
  {
   "cell_type": "markdown",
   "metadata": {},
   "source": [
    "# Compactness Measures"
   ]
  },
  {
   "cell_type": "markdown",
   "metadata": {},
   "source": [
    "© Metric Geometry and Gerrymandering Group 2018\n",
    "\n",
    "This notebook encapsulates the calculation of various compactness measures."
   ]
  },
  {
   "cell_type": "code",
   "execution_count": 7,
   "metadata": {},
   "outputs": [],
   "source": [
    "import geopandas as gpd\n",
    "import shapely as shp\n",
    "import math\n",
    "import numpy as np"
   ]
  },
  {
   "cell_type": "markdown",
   "metadata": {},
   "source": [
    "### Load Data:"
   ]
  },
  {
   "cell_type": "code",
   "execution_count": 2,
   "metadata": {},
   "outputs": [],
   "source": [
    "data_path = \"../shapes/tl_2016_us_cd115.shp\"\n",
    "data = gpd.read_file(data_path)"
   ]
  },
  {
   "cell_type": "code",
   "execution_count": 3,
   "metadata": {},
   "outputs": [
    {
     "data": {
      "text/html": [
       "<div>\n",
       "<table border=\"1\" class=\"dataframe\">\n",
       "  <thead>\n",
       "    <tr style=\"text-align: right;\">\n",
       "      <th></th>\n",
       "      <th>STATEFP</th>\n",
       "      <th>CD115FP</th>\n",
       "      <th>GEOID</th>\n",
       "      <th>NAMELSAD</th>\n",
       "      <th>LSAD</th>\n",
       "      <th>CDSESSN</th>\n",
       "      <th>MTFCC</th>\n",
       "      <th>FUNCSTAT</th>\n",
       "      <th>ALAND</th>\n",
       "      <th>AWATER</th>\n",
       "      <th>INTPTLAT</th>\n",
       "      <th>INTPTLON</th>\n",
       "      <th>geometry</th>\n",
       "    </tr>\n",
       "  </thead>\n",
       "  <tbody>\n",
       "    <tr>\n",
       "      <th>0</th>\n",
       "      <td>02</td>\n",
       "      <td>00</td>\n",
       "      <td>0200</td>\n",
       "      <td>Congressional District (at Large)</td>\n",
       "      <td>C1</td>\n",
       "      <td>115</td>\n",
       "      <td>G5200</td>\n",
       "      <td>N</td>\n",
       "      <td>1477946266785</td>\n",
       "      <td>245390495931</td>\n",
       "      <td>+63.3461909</td>\n",
       "      <td>-152.8370690</td>\n",
       "      <td>(POLYGON ((179.388742 51.941917, 179.404562 51...</td>\n",
       "    </tr>\n",
       "    <tr>\n",
       "      <th>1</th>\n",
       "      <td>10</td>\n",
       "      <td>00</td>\n",
       "      <td>1000</td>\n",
       "      <td>Congressional District (at Large)</td>\n",
       "      <td>C1</td>\n",
       "      <td>115</td>\n",
       "      <td>G5200</td>\n",
       "      <td>N</td>\n",
       "      <td>5047194742</td>\n",
       "      <td>1398720828</td>\n",
       "      <td>+38.9985380</td>\n",
       "      <td>-075.4416616</td>\n",
       "      <td>POLYGON ((-75.789023 39.65979, -75.788922 39.6...</td>\n",
       "    </tr>\n",
       "    <tr>\n",
       "      <th>2</th>\n",
       "      <td>30</td>\n",
       "      <td>00</td>\n",
       "      <td>3000</td>\n",
       "      <td>Congressional District (at Large)</td>\n",
       "      <td>C1</td>\n",
       "      <td>115</td>\n",
       "      <td>G5200</td>\n",
       "      <td>N</td>\n",
       "      <td>376964956503</td>\n",
       "      <td>3866986696</td>\n",
       "      <td>+47.0511771</td>\n",
       "      <td>-109.6348174</td>\n",
       "      <td>POLYGON ((-116.049116 48.000828, -116.049118 4...</td>\n",
       "    </tr>\n",
       "    <tr>\n",
       "      <th>3</th>\n",
       "      <td>38</td>\n",
       "      <td>00</td>\n",
       "      <td>3800</td>\n",
       "      <td>Congressional District (at Large)</td>\n",
       "      <td>C1</td>\n",
       "      <td>115</td>\n",
       "      <td>G5200</td>\n",
       "      <td>N</td>\n",
       "      <td>178711813026</td>\n",
       "      <td>4399093501</td>\n",
       "      <td>+47.4421698</td>\n",
       "      <td>-100.4608163</td>\n",
       "      <td>POLYGON ((-104.048967 48.86953399999999, -104....</td>\n",
       "    </tr>\n",
       "    <tr>\n",
       "      <th>4</th>\n",
       "      <td>46</td>\n",
       "      <td>00</td>\n",
       "      <td>4600</td>\n",
       "      <td>Congressional District (at Large)</td>\n",
       "      <td>C1</td>\n",
       "      <td>115</td>\n",
       "      <td>G5200</td>\n",
       "      <td>N</td>\n",
       "      <td>196348407642</td>\n",
       "      <td>3380782733</td>\n",
       "      <td>+44.4467957</td>\n",
       "      <td>-100.2381762</td>\n",
       "      <td>POLYGON ((-104.057879 44.997605, -104.050783 4...</td>\n",
       "    </tr>\n",
       "  </tbody>\n",
       "</table>\n",
       "</div>"
      ],
      "text/plain": [
       "  STATEFP CD115FP GEOID                           NAMELSAD LSAD CDSESSN  \\\n",
       "0      02      00  0200  Congressional District (at Large)   C1     115   \n",
       "1      10      00  1000  Congressional District (at Large)   C1     115   \n",
       "2      30      00  3000  Congressional District (at Large)   C1     115   \n",
       "3      38      00  3800  Congressional District (at Large)   C1     115   \n",
       "4      46      00  4600  Congressional District (at Large)   C1     115   \n",
       "\n",
       "   MTFCC FUNCSTAT          ALAND        AWATER     INTPTLAT      INTPTLON  \\\n",
       "0  G5200        N  1477946266785  245390495931  +63.3461909  -152.8370690   \n",
       "1  G5200        N     5047194742    1398720828  +38.9985380  -075.4416616   \n",
       "2  G5200        N   376964956503    3866986696  +47.0511771  -109.6348174   \n",
       "3  G5200        N   178711813026    4399093501  +47.4421698  -100.4608163   \n",
       "4  G5200        N   196348407642    3380782733  +44.4467957  -100.2381762   \n",
       "\n",
       "                                            geometry  \n",
       "0  (POLYGON ((179.388742 51.941917, 179.404562 51...  \n",
       "1  POLYGON ((-75.789023 39.65979, -75.788922 39.6...  \n",
       "2  POLYGON ((-116.049116 48.000828, -116.049118 4...  \n",
       "3  POLYGON ((-104.048967 48.86953399999999, -104....  \n",
       "4  POLYGON ((-104.057879 44.997605, -104.050783 4...  "
      ]
     },
     "execution_count": 3,
     "metadata": {},
     "output_type": "execute_result"
    }
   ],
   "source": [
    "data.head()"
   ]
  },
  {
   "cell_type": "code",
   "execution_count": 14,
   "metadata": {},
   "outputs": [
    {
     "data": {
      "text/plain": [
       "252.0277266903611"
      ]
     },
     "execution_count": 14,
     "metadata": {},
     "output_type": "execute_result"
    }
   ],
   "source": [
    "data.ix[0].geometry.length"
   ]
  },
  {
   "cell_type": "markdown",
   "metadata": {},
   "source": [
    "### Measurements:"
   ]
  },
  {
   "cell_type": "markdown",
   "metadata": {},
   "source": [
    "To Implement:\n",
    " - Significant Corners\n",
    " - Boyce-Clark\n",
    " - Variance in x/y coord and segment length\n",
    " - Variance in y-coord \n",
    " \n",
    "Implemented:\n",
    " - Polsby-Popper\n",
    " - Convex Hull Area\n",
    " - Area\n",
    " - x/y symmetry"
   ]
  },
  {
   "cell_type": "code",
   "execution_count": 8,
   "metadata": {},
   "outputs": [],
   "source": [
    "def polsby_popper(geometry):\n",
    "    \"\"\"Returns a number from 0 to 1, with 1 being the most compact\"\"\"\n",
    "    \n",
    "    return 4*math.pi*geometry.area/(geometry.length**2)"
   ]
  },
  {
   "cell_type": "code",
   "execution_count": 9,
   "metadata": {},
   "outputs": [],
   "source": [
    "def convex_hull(geometry):\n",
    "    \"\"\"Returns the area of the convex hull of the geometry\"\"\"\n",
    "    \n",
    "    return geometry.convex_hull.area"
   ]
  },
  {
   "cell_type": "code",
   "execution_count": 17,
   "metadata": {},
   "outputs": [],
   "source": [
    "def symmetry(geometry, y=False):\n",
    "    \"\"\"Calculates the symmetry as described by King\"\"\"\n",
    "    x_t, y_t = (-1, 1) if y else (1,-1)\n",
    "    reflected = shp.affinity.scale(geometry, xfact=x_t, yfact=y_t)\n",
    "    intersect = reflected.intersection(geometry)\n",
    "    \n",
    "    return intersect.area / geometry.area"
   ]
  },
  {
   "cell_type": "code",
   "execution_count": null,
   "metadata": {},
   "outputs": [],
   "source": []
  }
 ],
 "metadata": {
  "kernelspec": {
   "display_name": "Python 3",
   "language": "python",
   "name": "python3"
  },
  "language_info": {
   "codemirror_mode": {
    "name": "ipython",
    "version": 3
   },
   "file_extension": ".py",
   "mimetype": "text/x-python",
   "name": "python",
   "nbconvert_exporter": "python",
   "pygments_lexer": "ipython3",
   "version": "3.6.3"
  }
 },
 "nbformat": 4,
 "nbformat_minor": 2
}
